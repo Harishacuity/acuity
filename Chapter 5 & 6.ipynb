{
 "cells": [
  {
   "cell_type": "markdown",
   "metadata": {},
   "source": [
    "# CHAPTER 5"
   ]
  },
  {
   "cell_type": "markdown",
   "metadata": {},
   "source": [
    "## 5.8 stack diagrams for recursive(pg 44)"
   ]
  },
  {
   "cell_type": "code",
   "execution_count": 1,
   "metadata": {},
   "outputs": [],
   "source": [
    "def print_n(n, s):\n",
    "    if n <= 0:\n",
    "        return\n",
    "    else:\n",
    "        print(s)\n",
    "        print_n(n-1, s)\n",
    "        \n"
   ]
  },
  {
   "cell_type": "code",
   "execution_count": 2,
   "metadata": {},
   "outputs": [
    {
     "name": "stdout",
     "output_type": "stream",
     "text": [
      "hi\n",
      "hi\n",
      "hi\n"
     ]
    }
   ],
   "source": [
    "print_n(3, 'hi')"
   ]
  },
  {
   "cell_type": "code",
   "execution_count": 3,
   "metadata": {},
   "outputs": [
    {
     "name": "stdout",
     "output_type": "stream",
     "text": [
      "hi\n",
      "hi\n",
      "hi\n",
      "hi\n",
      "hi\n"
     ]
    }
   ],
   "source": [
    "print_n(5, 'hi')"
   ]
  },
  {
   "cell_type": "code",
   "execution_count": 4,
   "metadata": {},
   "outputs": [],
   "source": [
    "def do_n(s,n):\n",
    "    if n <= 0:\n",
    "        return\n",
    "    print(s)\n",
    "    do_n(s, n-1)"
   ]
  },
  {
   "cell_type": "code",
   "execution_count": 5,
   "metadata": {},
   "outputs": [
    {
     "name": "stdout",
     "output_type": "stream",
     "text": [
      "hi.... hello!!!\n",
      "hi.... hello!!!\n",
      "hi.... hello!!!\n",
      "hi.... hello!!!\n",
      "hi.... hello!!!\n"
     ]
    }
   ],
   "source": [
    "do_n('hi.... hello!!!', 5)"
   ]
  },
  {
   "cell_type": "markdown",
   "metadata": {},
   "source": [
    "## 5.11 Keyboard input"
   ]
  },
  {
   "cell_type": "code",
   "execution_count": null,
   "metadata": {},
   "outputs": [],
   "source": [
    "entername = 'enter your name: '\n",
    "repeattime = 'enter the number of times to repeat: '\n",
    "s = input(entername)\n",
    "n = input(repeattime)\n",
    "n = int(n)\n",
    "def printthefollowing(n,s):\n",
    "    if n<=0:\n",
    "        return\n",
    "    print(s)\n",
    "    printthefollowing(n-1, s)\n",
    "printthefollowing(n,s)\n",
    "#print(printthefollowing(n,s))\n",
    "    "
   ]
  },
  {
   "cell_type": "code",
   "execution_count": null,
   "metadata": {},
   "outputs": [],
   "source": [
    "printthefollowing(n,s)"
   ]
  },
  {
   "cell_type": "markdown",
   "metadata": {},
   "source": [
    "## Exercise 5.2"
   ]
  },
  {
   "cell_type": "code",
   "execution_count": null,
   "metadata": {},
   "outputs": [],
   "source": [
    "def check_fermat(a,b,c,n):\n",
    "    a = a**n\n",
    "    b = b**n\n",
    "    c = c**n\n",
    "    if ((a+b)==c) and n>2:\n",
    "        print(\"Holy smokes, Fermat was wrong!\")\n",
    "    else:\n",
    "        print(\"No, that doesn't work\")\n",
    "    "
   ]
  },
  {
   "cell_type": "code",
   "execution_count": null,
   "metadata": {},
   "outputs": [],
   "source": [
    "check_fermat(1,2,3,4)"
   ]
  },
  {
   "cell_type": "code",
   "execution_count": null,
   "metadata": {},
   "outputs": [],
   "source": [
    "a = int(input('enter the 1st number: '))\n",
    "b = int(input('enter the 2nd number: '))\n",
    "c = int(input('enter the 3rd number: '))\n",
    "n = int(input('enter the exponential part: '))\n",
    "check_fermat(a,b,c,n)\n"
   ]
  },
  {
   "cell_type": "markdown",
   "metadata": {},
   "source": [
    "## Exercise 5.3"
   ]
  },
  {
   "cell_type": "code",
   "execution_count": null,
   "metadata": {},
   "outputs": [],
   "source": [
    "def is_triangle(a,b,c):\n",
    "    if a>b and a>c:\n",
    "        if a > b+c:\n",
    "            print('no triangle formed')\n",
    "        else:\n",
    "            print('yes triangle can be formed')\n",
    "    elif b>a and b>c:\n",
    "        if b > a+c:\n",
    "            print('no tringle formed')\n",
    "        else:\n",
    "            print('yes triangle can be formed')\n",
    "    elif c > a+b:\n",
    "        print('no triangle is formed')\n",
    "    else:\n",
    "        print('yes it is formed')\n",
    "            \n"
   ]
  },
  {
   "cell_type": "code",
   "execution_count": null,
   "metadata": {},
   "outputs": [],
   "source": [
    "is_triangle(4,1,1)"
   ]
  },
  {
   "cell_type": "code",
   "execution_count": null,
   "metadata": {},
   "outputs": [],
   "source": [
    "def is_triangle2(a,b,c):\n",
    "    if (a>b+c) or (b>c+d) or (c>a+b):\n",
    "        print('no triangle formed')\n",
    "    else:\n",
    "        print ('triangle can be formed')"
   ]
  },
  {
   "cell_type": "code",
   "execution_count": null,
   "metadata": {},
   "outputs": [],
   "source": [
    "is_triangle2(2,2,40)"
   ]
  },
  {
   "cell_type": "code",
   "execution_count": null,
   "metadata": {},
   "outputs": [],
   "source": [
    "a = int(input('enter side a: '))\n",
    "b = int(input('enter side b:'))\n",
    "c = int(input('enter side b: '))\n",
    "is_triangle2(a,b,c)"
   ]
  },
  {
   "cell_type": "markdown",
   "metadata": {},
   "source": [
    "## Exercise 5.4"
   ]
  },
  {
   "cell_type": "code",
   "execution_count": null,
   "metadata": {},
   "outputs": [],
   "source": [
    "def recurse(n ,s):\n",
    "    if n == 0:\n",
    "        print(s)\n",
    "    else:\n",
    "        recurse(n-1, n+s)\n",
    "        print(n)\n",
    "    \"\"\"if n is given -1, then the  function not responds\"\"\"\n"
   ]
  },
  {
   "cell_type": "code",
   "execution_count": null,
   "metadata": {},
   "outputs": [],
   "source": [
    "recurse(3,0)"
   ]
  },
  {
   "cell_type": "code",
   "execution_count": null,
   "metadata": {},
   "outputs": [],
   "source": [
    "recurse(1,0)"
   ]
  },
  {
   "cell_type": "markdown",
   "metadata": {},
   "source": [
    "# Chapter 6 - Fruitful functions"
   ]
  },
  {
   "cell_type": "markdown",
   "metadata": {},
   "source": [
    "## 6.1 Return Values pg(52)"
   ]
  },
  {
   "cell_type": "code",
   "execution_count": null,
   "metadata": {},
   "outputs": [],
   "source": [
    "def comparision(x,y):\n",
    "    if x>y:\n",
    "        print(1)\n",
    "        #return 1\n",
    "    if x==y:\n",
    "        return 0\n",
    "    if x<y:\n",
    "        return -1"
   ]
  },
  {
   "cell_type": "code",
   "execution_count": null,
   "metadata": {},
   "outputs": [],
   "source": [
    "comparision(3,2)"
   ]
  },
  {
   "cell_type": "code",
   "execution_count": null,
   "metadata": {},
   "outputs": [],
   "source": [
    "a = comparision(3,2)"
   ]
  },
  {
   "cell_type": "markdown",
   "metadata": {},
   "source": [
    "## 6.2 Incremental Developent"
   ]
  },
  {
   "cell_type": "code",
   "execution_count": null,
   "metadata": {},
   "outputs": [],
   "source": [
    "def hypotenuse(a,b):\n",
    "    return 0.0"
   ]
  },
  {
   "cell_type": "code",
   "execution_count": null,
   "metadata": {},
   "outputs": [],
   "source": [
    "def hypotenuse(a,b):\n",
    "    a = a**2\n",
    "    b = b**2\n",
    "    print('square of a', a)\n",
    "    print('square of b', b)\n",
    "    return 0.0\n",
    "hypotenuse(2,4)"
   ]
  },
  {
   "cell_type": "code",
   "execution_count": null,
   "metadata": {},
   "outputs": [],
   "source": [
    "import math\n",
    "def hypotenuse(a,b):\n",
    "    a = a**2\n",
    "    b = b**2\n",
    "    print('square of a', a)\n",
    "    print('square of b', b)\n",
    "    c = a + b\n",
    "    print ('sum of above variables',c)\n",
    "    return 0.0\n",
    "hypotenuse(2,4)"
   ]
  },
  {
   "cell_type": "code",
   "execution_count": null,
   "metadata": {},
   "outputs": [],
   "source": [
    "import math\n",
    "def hypotenuse(a,b):\n",
    "    a = a**2\n",
    "    b = b**2\n",
    "    print('square of a', a)\n",
    "    print('square of b', b)\n",
    "    c = a + b\n",
    "    print ('sum of above variables',c)\n",
    "    hypo = math.sqrt(c)\n",
    "    return hypo\n",
    "hypotenuse(3,4)"
   ]
  },
  {
   "cell_type": "markdown",
   "metadata": {},
   "source": [
    "## 6.3 Composition"
   ]
  },
  {
   "cell_type": "code",
   "execution_count": null,
   "metadata": {},
   "outputs": [],
   "source": [
    "import math\n",
    "def distance(x1,y1,x2,y2):\n",
    "    return(math.sqrt((x2-x1)**2 +(y2-y1)**2))\n",
    "def area(radius):\n",
    "    return(math.pi*(radius)**2)"
   ]
  },
  {
   "cell_type": "markdown",
   "metadata": {},
   "source": [
    "area of circle with circle center and circle perimeter"
   ]
  },
  {
   "cell_type": "code",
   "execution_count": null,
   "metadata": {},
   "outputs": [],
   "source": [
    "def circle_area(xc,yc,xp,yp):\n",
    "    return (area(distance(xc,yc,xp,yp)))\n",
    "circle_area(2,3,6,6)"
   ]
  },
  {
   "cell_type": "code",
   "execution_count": null,
   "metadata": {},
   "outputs": [],
   "source": [
    "math.pi* 5**2"
   ]
  },
  {
   "cell_type": "markdown",
   "metadata": {},
   "source": [
    "## 6.4 boolean functions"
   ]
  },
  {
   "cell_type": "code",
   "execution_count": null,
   "metadata": {},
   "outputs": [],
   "source": [
    "def is_divisible(x,y):\n",
    "    return x%y == 0\n",
    "is_divisible(4,2)\n"
   ]
  },
  {
   "cell_type": "code",
   "execution_count": null,
   "metadata": {},
   "outputs": [],
   "source": [
    "if is_divisible(4,3):\n",
    "    print('x is divisible by y')"
   ]
  },
  {
   "cell_type": "code",
   "execution_count": null,
   "metadata": {},
   "outputs": [],
   "source": [
    "def is_between(x,y,z):\n",
    "    return x<=y<=z\n",
    "print(is_between(1,2,3))\n",
    "print(is_between(3,2,3))\n"
   ]
  },
  {
   "cell_type": "markdown",
   "metadata": {},
   "source": [
    "## 6.5 More Recursion"
   ]
  },
  {
   "cell_type": "code",
   "execution_count": null,
   "metadata": {},
   "outputs": [],
   "source": [
    "def fact(n):\n",
    "    if n == 0:\n",
    "        return 1\n",
    "    else:\n",
    "        recurse = fact(n-1)\n",
    "        print(recurse)\n",
    "        return (n*recurse)\n",
    "        "
   ]
  },
  {
   "cell_type": "code",
   "execution_count": null,
   "metadata": {},
   "outputs": [],
   "source": [
    "fact(4)"
   ]
  },
  {
   "cell_type": "code",
   "execution_count": null,
   "metadata": {},
   "outputs": [],
   "source": [
    "def fibonacci(n):\n",
    "    if n == 0:\n",
    "        return 0\n",
    "    elif n == 1:\n",
    "        return 1\n",
    "    else:\n",
    "        a = fibonacci(n-1) + fibonacci(n-2)\n",
    "        print(a)\n",
    "        return fibonacci(n-1) + fibonacci(n-2)"
   ]
  },
  {
   "cell_type": "code",
   "execution_count": null,
   "metadata": {},
   "outputs": [],
   "source": [
    "fibonacci(4)"
   ]
  },
  {
   "cell_type": "markdown",
   "metadata": {},
   "source": [
    "## isinstance"
   ]
  },
  {
   "cell_type": "code",
   "execution_count": null,
   "metadata": {},
   "outputs": [],
   "source": [
    "def factorial(n):\n",
    "    if not isinstance(n,int):\n",
    "        print('Factorial accept only integers')\n",
    "        return None\n",
    "    elif n<0:\n",
    "        print('only accepts positive integer')\n",
    "        return None\n",
    "    elif n == 0:\n",
    "        return 1\n",
    "    else:\n",
    "        return n * factorial(n-1)"
   ]
  },
  {
   "cell_type": "code",
   "execution_count": null,
   "metadata": {},
   "outputs": [],
   "source": [
    "print(factorial(9.0))\n",
    "print(factorial(-9))\n",
    "print(factorial(5))"
   ]
  },
  {
   "cell_type": "markdown",
   "metadata": {},
   "source": [
    "### Doubt"
   ]
  },
  {
   "cell_type": "code",
   "execution_count": null,
   "metadata": {},
   "outputs": [],
   "source": [
    "def fact(n):\n",
    "    space = ''*(4*n)\n",
    "    print(space, 'factorial', n)\n",
    "    if n == 0:\n",
    "        print(space, 'returning 1')\n",
    "        return 1\n",
    "    else:\n",
    "        recurse = factorial(n-1)\n",
    "        result = n*recurse\n",
    "        print(space, 'returning', result)\n",
    "        return result"
   ]
  },
  {
   "cell_type": "code",
   "execution_count": null,
   "metadata": {},
   "outputs": [],
   "source": [
    "print(fact(4))\n",
    "print(fact(5))\n"
   ]
  },
  {
   "cell_type": "markdown",
   "metadata": {},
   "source": [
    "## Exercise 6.1 "
   ]
  },
  {
   "cell_type": "code",
   "execution_count": null,
   "metadata": {},
   "outputs": [],
   "source": [
    "def b(z):\n",
    "    prod = a(z,z)\n",
    "    print(z, prod)\n",
    "    return prod\n",
    "def a(x,y):\n",
    "    x = x+1\n",
    "    return x * y\n",
    "def c(x,y,z):\n",
    "    total = x+y+z\n",
    "    square = b(total)**2\n",
    "    return square\n",
    "x=1\n",
    "y=x+1\n",
    "print(c(x,y+3,x+y))"
   ]
  },
  {
   "cell_type": "markdown",
   "metadata": {},
   "source": [
    "## Exercise 6.2 ackermann"
   ]
  },
  {
   "cell_type": "code",
   "execution_count": null,
   "metadata": {},
   "outputs": [],
   "source": [
    "def ack(m,n):\n",
    "    if m == 0:\n",
    "        return n+1\n",
    "    if n == 0:\n",
    "        return ack(m-1,1)\n",
    "    return ack(m-1,ack(m,n-1))\n",
    "        "
   ]
  },
  {
   "cell_type": "code",
   "execution_count": null,
   "metadata": {},
   "outputs": [],
   "source": [
    "ack(3,4)"
   ]
  },
  {
   "cell_type": "markdown",
   "metadata": {},
   "source": [
    "## Exercise 6.3 Palindrome"
   ]
  },
  {
   "cell_type": "code",
   "execution_count": null,
   "metadata": {},
   "outputs": [],
   "source": [
    "def first(word):\n",
    "    return word[0]\n",
    "def last(word):\n",
    "    return word[-1]\n",
    "def middle(word):\n",
    "    return word[1:-1]"
   ]
  },
  {
   "cell_type": "markdown",
   "metadata": {},
   "source": [
    "### getting middle word with two letters"
   ]
  },
  {
   "cell_type": "code",
   "execution_count": null,
   "metadata": {},
   "outputs": [],
   "source": [
    "middle('ha')\n"
   ]
  },
  {
   "cell_type": "markdown",
   "metadata": {},
   "source": [
    "### getting middle word with empty string"
   ]
  },
  {
   "cell_type": "code",
   "execution_count": null,
   "metadata": {},
   "outputs": [],
   "source": [
    "middle('')\n",
    "# print(first('Harish'))\n",
    "# first('harish')"
   ]
  },
  {
   "cell_type": "markdown",
   "metadata": {},
   "source": [
    "### getting middle word with one letter"
   ]
  },
  {
   "cell_type": "code",
   "execution_count": null,
   "metadata": {},
   "outputs": [],
   "source": [
    "middle('a')"
   ]
  },
  {
   "cell_type": "markdown",
   "metadata": {},
   "source": [
    "### To check a Palindrome: "
   ]
  },
  {
   "cell_type": "code",
   "execution_count": null,
   "metadata": {},
   "outputs": [],
   "source": [
    "def is_palindrome(a):\n",
    "    c = len(a)\n",
    "    print (c)\n",
    "    print(a[0:len(a)])\n",
    "    print(a[-len(a):0])\n",
    "    if a[0:len(a)]== a[-len(a):0]:\n",
    "        print('it is palindrome')\n",
    "    else:\n",
    "        print('no its not a palindrome')\n",
    "    "
   ]
  },
  {
   "cell_type": "code",
   "execution_count": null,
   "metadata": {},
   "outputs": [],
   "source": [
    "is_palindrome('madam')"
   ]
  },
  {
   "cell_type": "code",
   "execution_count": null,
   "metadata": {},
   "outputs": [],
   "source": [
    "def is_palindrome2(word):\n",
    "    if len(word) <= 1:\n",
    "        return True\n",
    "    if first(word) != last(word):\n",
    "        return False\n",
    "    return is_palindrome2(middle(word))"
   ]
  },
  {
   "cell_type": "code",
   "execution_count": null,
   "metadata": {},
   "outputs": [],
   "source": [
    "is_palindrome2('mam')"
   ]
  },
  {
   "cell_type": "markdown",
   "metadata": {},
   "source": [
    "### exercise 6.4"
   ]
  },
  {
   "cell_type": "code",
   "execution_count": null,
   "metadata": {},
   "outputs": [],
   "source": [
    "def is_power2(a, b):\n",
    "    if a % b == 0:\n",
    "        if a == b:\n",
    "            return True\n",
    "        else:\n",
    "            return is_power2(a/b, b)\n",
    "    return False"
   ]
  },
  {
   "cell_type": "code",
   "execution_count": null,
   "metadata": {},
   "outputs": [],
   "source": [
    "is_power2(4,2)"
   ]
  },
  {
   "cell_type": "code",
   "execution_count": null,
   "metadata": {},
   "outputs": [],
   "source": [
    "def gcd(a,b):\n",
    "    # catch base case from the door\n",
    "    if b == 0:\n",
    "        return a\n",
    "    # otherwise, do the other steps\n",
    "    else:\n",
    "        # compute remainder\n",
    "        remainder = a % b\n",
    "        # If we have base case, no need to\n",
    "        # call again\n",
    "        if remainder == 0:\n",
    "            return b\n",
    "        # otherwise, we recurse and grab the return value\n",
    "        else:\n",
    "            print(remainder)\n",
    "            return gcd(b, remainder)\n",
    "            \n"
   ]
  },
  {
   "cell_type": "code",
   "execution_count": null,
   "metadata": {},
   "outputs": [],
   "source": [
    "gcd(7,10)"
   ]
  },
  {
   "cell_type": "code",
   "execution_count": null,
   "metadata": {},
   "outputs": [],
   "source": [
    "gcd(10,7)"
   ]
  },
  {
   "cell_type": "code",
   "execution_count": null,
   "metadata": {},
   "outputs": [],
   "source": [
    "7%10"
   ]
  },
  {
   "cell_type": "code",
   "execution_count": null,
   "metadata": {},
   "outputs": [],
   "source": []
  }
 ],
 "metadata": {
  "kernelspec": {
   "display_name": "Python 3",
   "language": "python",
   "name": "python3"
  },
  "language_info": {
   "codemirror_mode": {
    "name": "ipython",
    "version": 3
   },
   "file_extension": ".py",
   "mimetype": "text/x-python",
   "name": "python",
   "nbconvert_exporter": "python",
   "pygments_lexer": "ipython3",
   "version": "3.7.0"
  }
 },
 "nbformat": 4,
 "nbformat_minor": 2
}
